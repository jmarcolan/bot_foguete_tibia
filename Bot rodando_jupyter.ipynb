{
 "cells": [
  {
   "cell_type": "code",
   "execution_count": 1,
   "metadata": {},
   "outputs": [],
   "source": [
    "from selenium import webdriver\n",
    "from selenium.webdriver.common.keys import Keys\n",
    "import time "
   ]
  },
  {
   "cell_type": "code",
   "execution_count": 2,
   "metadata": {},
   "outputs": [],
   "source": [
    "PATH = \"./chromedriver.exe\"\n",
    "driver = webdriver.Chrome(PATH)\n",
    "driver.get(\"https://www.tibiaplay.com/crash\")\n",
    "# time.sleep(10)"
   ]
  },
  {
   "cell_type": "code",
   "execution_count": 4,
   "metadata": {},
   "outputs": [],
   "source": [
    "import tes_selenium as bot"
   ]
  },
  {
   "cell_type": "code",
   "execution_count": 5,
   "metadata": {},
   "outputs": [
    {
     "name": "stdout",
     "output_type": "stream",
     "text": [
      "----------------------------------------\n",
      "O ultimo valor pego e atualizado foi o do:  3.54\n",
      "[{'qt': '5', 'mlt': '1.39'}, {'qt': '5', 'mlt': '0'}, {'qt': '2', 'mlt': '0'}, {'qt': '1', 'mlt': '0'}, {'qt': '1', 'mlt': '0'}]\n",
      "*--**--**--**--**--**--**--**--**--**--*\n",
      "----------------------------------------\n",
      "O ultimo valor pego e atualizado foi o do:  1.40\n",
      "----------------------------------------\n",
      "O ultimo valor pego e atualizado foi o do:  1.00\n",
      "[{'qt': '50', 'mlt': '0'}, {'qt': '5', 'mlt': '0'}, {'qt': '5', 'mlt': '0'}, {'qt': '2', 'mlt': '0'}, {'qt': '1', 'mlt': '0'}, {'qt': '1', 'mlt': '0'}]\n",
      "*--**--**--**--**--**--**--**--**--**--*\n"
     ]
    },
    {
     "ename": "KeyboardInterrupt",
     "evalue": "",
     "output_type": "error",
     "traceback": [
      "\u001b[1;31m---------------------------------------------------------------------------\u001b[0m",
      "\u001b[1;31mKeyboardInterrupt\u001b[0m                         Traceback (most recent call last)",
      "\u001b[1;32m<ipython-input-5-572200b03665>\u001b[0m in \u001b[0;36m<module>\u001b[1;34m\u001b[0m\n\u001b[1;32m----> 1\u001b[1;33m \u001b[0mbot\u001b[0m\u001b[1;33m.\u001b[0m\u001b[0mpegando_dados\u001b[0m\u001b[1;33m(\u001b[0m\u001b[0mdriver\u001b[0m\u001b[1;33m)\u001b[0m\u001b[1;33m\u001b[0m\u001b[1;33m\u001b[0m\u001b[0m\n\u001b[0m",
      "\u001b[1;32m~\\OneDrive\\Área de Trabalho\\tibia_play\\tes_selenium.py\u001b[0m in \u001b[0;36mpegando_dados\u001b[1;34m(driver)\u001b[0m\n\u001b[0;32m    273\u001b[0m     \u001b[0mpega_tabela\u001b[0m \u001b[1;33m=\u001b[0m \u001b[0mconstruindo_funcao_geradora_pega_tabela\u001b[0m\u001b[1;33m(\u001b[0m\u001b[0mdriver\u001b[0m\u001b[1;33m)\u001b[0m\u001b[1;33m\u001b[0m\u001b[1;33m\u001b[0m\u001b[0m\n\u001b[0;32m    274\u001b[0m     \u001b[1;32mwhile\u001b[0m \u001b[1;32mTrue\u001b[0m\u001b[1;33m:\u001b[0m\u001b[1;33m\u001b[0m\u001b[1;33m\u001b[0m\u001b[0m\n\u001b[1;32m--> 275\u001b[1;33m         \u001b[0mtime\u001b[0m\u001b[1;33m.\u001b[0m\u001b[0msleep\u001b[0m\u001b[1;33m(\u001b[0m\u001b[1;36m0.1\u001b[0m\u001b[1;33m)\u001b[0m\u001b[1;33m\u001b[0m\u001b[1;33m\u001b[0m\u001b[0m\n\u001b[0m\u001b[0;32m    276\u001b[0m         \u001b[0mnext\u001b[0m\u001b[1;33m(\u001b[0m\u001b[0mpega_valor_1_vez_lal\u001b[0m\u001b[1;33m)\u001b[0m\u001b[1;33m\u001b[0m\u001b[1;33m\u001b[0m\u001b[0m\n\u001b[0;32m    277\u001b[0m         \u001b[0mnext\u001b[0m\u001b[1;33m(\u001b[0m\u001b[0mpega_tabela\u001b[0m\u001b[1;33m)\u001b[0m\u001b[1;33m\u001b[0m\u001b[1;33m\u001b[0m\u001b[0m\n",
      "\u001b[1;31mKeyboardInterrupt\u001b[0m: "
     ]
    }
   ],
   "source": [
    "bot.pegando_dados(driver)"
   ]
  },
  {
   "cell_type": "code",
   "execution_count": null,
   "metadata": {},
   "outputs": [
    {
     "name": "stdout",
     "output_type": "stream",
     "text": [
      "----------------------------------------\n",
      "O ultimo valor pego e atualizado foi o do:  1.00\n",
      "[{'qt': '50', 'mlt': '0'}, {'qt': '20', 'mlt': '0'}, {'qt': '10', 'mlt': '1.05'}, {'qt': '4', 'mlt': '1.42'}, {'qt': '2', 'mlt': '0'}, {'qt': '2', 'mlt': '1.26'}, {'qt': '2', 'mlt': '1.43'}, {'qt': '1', 'mlt': '1.60'}]\n",
      "*--**--**--**--**--**--**--**--**--**--*\n",
      "----------------------------------------\n",
      "O ultimo valor pego e atualizado foi o do:  1.80\n",
      "[{'qt': '25', 'mlt': '0'}, {'qt': '25', 'mlt': '0'}, {'qt': '10', 'mlt': '1.02'}, {'qt': '4', 'mlt': '0'}, {'qt': '2', 'mlt': '0'}, {'qt': '1', 'mlt': '0'}]\n",
      "*--**--**--**--**--**--**--**--**--**--*\n",
      "----------------------------------------\n",
      "O ultimo valor pego e atualizado foi o do:  1.12\n",
      "[{'qt': '50', 'mlt': '0'}, {'qt': '25', 'mlt': '1.16'}, {'qt': '10', 'mlt': '1.30'}, {'qt': '10', 'mlt': '0'}, {'qt': '10', 'mlt': '0'}, {'qt': '8', 'mlt': '0'}, {'qt': '3', 'mlt': '0'}, {'qt': '2', 'mlt': '0'}]\n",
      "*--**--**--**--**--**--**--**--**--**--*\n",
      "----------------------------------------\n",
      "O ultimo valor pego e atualizado foi o do:  1.36\n",
      "[{'qt': '100', 'mlt': '0'}, {'qt': '25', 'mlt': '1.15'}, {'qt': '16', 'mlt': '0'}, {'qt': '10', 'mlt': '0'}, {'qt': '2', 'mlt': '1.55'}, {'qt': '2', 'mlt': '0'}, {'qt': '2', 'mlt': '0'}, {'qt': '1', 'mlt': '0'}]\n",
      "*--**--**--**--**--**--**--**--**--**--*\n",
      "----------------------------------------\n",
      "O ultimo valor pego e atualizado foi o do:  1.55\n",
      "[{'qt': '250', 'mlt': '1.55'}, {'qt': '50', 'mlt': '1.27'}, {'qt': '40', 'mlt': '0'}, {'qt': '32', 'mlt': '0'}, {'qt': '10', 'mlt': '1.49'}, {'qt': '10', 'mlt': '0'}, {'qt': '5', 'mlt': '1.63'}, {'qt': '2', 'mlt': '0'}, {'qt': '1', 'mlt': '1.42'}]\n",
      "*--**--**--**--**--**--**--**--**--**--*\n",
      "----------------------------------------\n",
      "O ultimo valor pego e atualizado foi o do:  2.07\n",
      "[{'qt': '40', 'mlt': '0'}, {'qt': '25', 'mlt': '1.16'}, {'qt': '10', 'mlt': '1.18'}, {'qt': '10', 'mlt': '1.71'}, {'qt': '5', 'mlt': '1.30'}, {'qt': '2', 'mlt': '0'}, {'qt': '1', 'mlt': '0'}]\n",
      "*--**--**--**--**--**--**--**--**--**--*\n",
      "----------------------------------------\n",
      "O ultimo valor pego e atualizado foi o do:  1.78\n",
      "[{'qt': '48', 'mlt': '0'}, {'qt': '5', 'mlt': '1.32'}, {'qt': '5', 'mlt': '1.15'}, {'qt': '5', 'mlt': '0'}, {'qt': '5', 'mlt': '0'}, {'qt': '4', 'mlt': '0'}, {'qt': '2', 'mlt': '0'}, {'qt': '2', 'mlt': '1.27'}]\n",
      "*--**--**--**--**--**--**--**--**--**--*\n",
      "----------------------------------------\n",
      "O ultimo valor pego e atualizado foi o do:  1.39\n",
      "[{'qt': '50', 'mlt': '0'}, {'qt': '10', 'mlt': '0'}, {'qt': '8', 'mlt': '0'}, {'qt': '5', 'mlt': '0'}, {'qt': '5', 'mlt': '0'}, {'qt': '4', 'mlt': '0'}, {'qt': '3', 'mlt': '0'}, {'qt': '2', 'mlt': '0'}]\n",
      "*--**--**--**--**--**--**--**--**--**--*\n"
     ]
    }
   ],
   "source": [
    "bot.pegando_dados(driver)\n"
   ]
  }
 ],
 "metadata": {
  "kernelspec": {
   "display_name": "Python 3",
   "language": "python",
   "name": "python3"
  },
  "language_info": {
   "codemirror_mode": {
    "name": "ipython",
    "version": 3
   },
   "file_extension": ".py",
   "mimetype": "text/x-python",
   "name": "python",
   "nbconvert_exporter": "python",
   "pygments_lexer": "ipython3",
   "version": "3.8.3"
  }
 },
 "nbformat": 4,
 "nbformat_minor": 4
}
