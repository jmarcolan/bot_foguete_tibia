{
 "cells": [
  {
   "cell_type": "code",
   "execution_count": 1,
   "metadata": {},
   "outputs": [],
   "source": [
    "from selenium import webdriver\n",
    "from selenium.webdriver.common.keys import Keys\n",
    "import time "
   ]
  },
  {
   "cell_type": "code",
   "execution_count": 2,
   "metadata": {},
   "outputs": [],
   "source": [
    "PATH = \"./chromedriver.exe\"\n",
    "driver = webdriver.Chrome(PATH)\n",
    "driver.get(\"https://www.tibiaplay.com/crash\")\n",
    "# time.sleep(10)"
   ]
  },
  {
   "cell_type": "code",
   "execution_count": 3,
   "metadata": {},
   "outputs": [],
   "source": [
    "import tes_selenium as bot"
   ]
  },
  {
   "cell_type": "code",
   "execution_count": 4,
   "metadata": {},
   "outputs": [],
   "source": [
    "# bot.pegando_dados(driver)"
   ]
  },
  {
   "cell_type": "code",
   "execution_count": 5,
   "metadata": {},
   "outputs": [],
   "source": [
    "# bot.pegando_dados(driver)\n",
    "import aposta as ap\n",
    "from IPython.display import clear_output"
   ]
  },
  {
   "cell_type": "code",
   "execution_count": 6,
   "metadata": {},
   "outputs": [],
   "source": [
    "# Construindo obot para apostar"
   ]
  },
  {
   "cell_type": "code",
   "execution_count": 7,
   "metadata": {},
   "outputs": [],
   "source": [
    "e1 = ap.estrategia_mock(46.18, ap.estrategia_v1, \"estrategia_v1\", qnt_aposta=3)"
   ]
  },
  {
   "cell_type": "code",
   "execution_count": 8,
   "metadata": {},
   "outputs": [],
   "source": [
    "# str(e1.qnt_aposta)"
   ]
  },
  {
   "cell_type": "code",
   "execution_count": 9,
   "metadata": {},
   "outputs": [],
   "source": [
    "def construindo_apostador(driver, e1, r_vivo=False):\n",
    "    \n",
    "    \n",
    "    def faz_aposta(driver, apostador, ultimo_crash):\n",
    "        clear_output(wait=True)\n",
    "        print(\"*---------------*\")\n",
    "        print(\"O ultimo valor pego e atualizado foi o do: \", ultimo_valor_antigo)\n",
    "        r_fez_aposta = apostador.faz_aposta(ultimo_crash,0)\n",
    "        if r_fez_aposta:\n",
    "            print(\"clicou para fazer as apostas\")\n",
    "#             BOOT CLICANDO VIVO\n",
    "            if r_vivo:\n",
    "                bot.creat_aposta(driver, str(e1.qnt_aposta))\n",
    "\n",
    "        return apostador, r_fez_aposta\n",
    "\n",
    "    def monitora_fim_partida(driver, apostador):\n",
    "        # r_not_crash = True\n",
    "        status_game = bot.get_status_game(driver)\n",
    "        r_inicio_partida = bot.r_determina_inicio_game(status_game)\n",
    "        r_not_crash = not bot.r_determina_fim_game(status_game)\n",
    "        print(r_not_crash)\n",
    "\n",
    "        r_existe_aposta = apostador.get_status_aposta()\n",
    "        if r_existe_aposta:\n",
    "            while r_not_crash:\n",
    "                r_not_crash = not bot.r_determina_fim_game(status_game)\n",
    "                time.sleep(0.02)\n",
    "                status_game = bot.get_status_game(driver)\n",
    "                r_inicio_partida = bot.r_determina_inicio_game(status_game)\n",
    "                if not r_inicio_partida:\n",
    "                    status_game = bot.get_status_game(driver)\n",
    "                    get_timer = bot.get_timer_texto(status_game)\n",
    "#                     print(f\"O tempo {get_timer} da partida em {r_not_crash}\")\n",
    "                    # print(type(get_timer))\n",
    "                    # print(get_timer)\n",
    "                    try:\n",
    "                        valor_atual = float(get_timer)\n",
    "                        r_clicar = apostador.cliclar_bota(valor_atual - 0.1)\n",
    "                        \n",
    "                        if r_clicar:\n",
    "                            print(f\"O tempo {get_timer} da partida em {r_not_crash}\")\n",
    "                            print(\"clicou e ganhou\")\n",
    "                            r_not_crash = False\n",
    "                            # bBOT CLICANDO VIVO\n",
    "                            if r_vivo:\n",
    "                                bot.retira_aposta(driver)\n",
    "\n",
    "                        \n",
    "                        if not r_not_crash and not r_clicar:\n",
    "                            apostador.atualiza_montante(valor_atual)\n",
    "                            print(\"perdeu\")\n",
    "                    except:\n",
    "                        print(\"An exception occurred\")\n",
    "                    \n",
    "#                     print(\"*---------------*\")\n",
    "\n",
    "        \n",
    "            \n",
    "            \n",
    "    ultimo_valor_antigo = \"\"\n",
    "    while True:        \n",
    "        # print(ultimo_valor_antigo)\n",
    "        ultimo_crash = bot.get_ultimo_crash(driver)\n",
    "        r_ultimo_crash_existe = ultimo_crash != None\n",
    "\n",
    "        if(r_ultimo_crash_existe):\n",
    "            ultimo_valor = bot.get_timer_texto(ultimo_crash)\n",
    "            r_ultimo_valor_atualizo = ultimo_valor_antigo != ultimo_valor\n",
    "\n",
    "            if r_ultimo_valor_atualizo:\n",
    "                ultimo_valor_antigo = ultimo_valor\n",
    "\n",
    "                e1, r_fez_aposta = faz_aposta(driver, e1, ultimo_valor_antigo)\n",
    "                \n",
    "                if r_fez_aposta:\n",
    "                    monitora_fim_partida(driver, e1)\n",
    "\n",
    "                \n",
    "                yield ultimo_valor_antigo\n",
    "            else:\n",
    "                yield ultimo_valor_antigo\n",
    "        else:\n",
    "            yield ultimo_valor_antigo\n",
    "\n",
    "\n",
    "\n",
    "def apostando(driver, e1, r_vivo=False):\n",
    "    faz_aposta = construindo_apostador(driver, e1, r_vivo)\n",
    "    while True:\n",
    "        time.sleep(0.1)\n",
    "        next(faz_aposta)"
   ]
  },
  {
   "cell_type": "code",
   "execution_count": 10,
   "metadata": {},
   "outputs": [],
   "source": [
    "# # ;driver\n",
    "# driver.close"
   ]
  },
  {
   "cell_type": "code",
   "execution_count": null,
   "metadata": {},
   "outputs": [
    {
     "name": "stdout",
     "output_type": "stream",
     "text": [
      "*---------------*\n",
      "O ultimo valor pego e atualizado foi o do:  2.99\n",
      "A estrategia_v1, apostou o valor de **1.8724682840566662x**, tem um montante de 79.35521320339242TC na i:0; t ultima 2.99x\n",
      "clicou para fazer as apostas\n",
      "True\n",
      "An exception occurred\n",
      "perdeu\n"
     ]
    }
   ],
   "source": [
    "apostando(driver, e1, r_vivo=True)"
   ]
  }
 ],
 "metadata": {
  "kernelspec": {
   "display_name": "Python 3",
   "language": "python",
   "name": "python3"
  },
  "language_info": {
   "codemirror_mode": {
    "name": "ipython",
    "version": 3
   },
   "file_extension": ".py",
   "mimetype": "text/x-python",
   "name": "python",
   "nbconvert_exporter": "python",
   "pygments_lexer": "ipython3",
   "version": "3.8.3"
  }
 },
 "nbformat": 4,
 "nbformat_minor": 4
}
