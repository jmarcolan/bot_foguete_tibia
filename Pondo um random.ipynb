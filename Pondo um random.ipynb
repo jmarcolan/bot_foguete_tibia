{
 "cells": [
  {
   "cell_type": "code",
   "execution_count": 1,
   "metadata": {},
   "outputs": [],
   "source": [
    "import pandas as pd\n",
    "import sqlite3\n"
   ]
  },
  {
   "cell_type": "code",
   "execution_count": 2,
   "metadata": {},
   "outputs": [],
   "source": [
    "import matplotlib.pyplot as plt"
   ]
  },
  {
   "cell_type": "code",
   "execution_count": 3,
   "metadata": {},
   "outputs": [],
   "source": [
    "from IPython.display import clear_output\n",
    "import numpy as np"
   ]
  },
  {
   "cell_type": "code",
   "execution_count": 4,
   "metadata": {},
   "outputs": [],
   "source": [
    "\n",
    "# Read sqlite query results into a pandas DataFrame\n",
    "con = sqlite3.connect(\"./clientes.db\")\n",
    "df = pd.read_sql_query(\"SELECT * from player\", con)"
   ]
  },
  {
   "cell_type": "code",
   "execution_count": 5,
   "metadata": {},
   "outputs": [],
   "source": [
    "def map_float(x):\n",
    "    return float(x)\n",
    "df.head(100)\n",
    "df[\"mlt\"] = df[\"mlt\"].map(map_float)"
   ]
  },
  {
   "cell_type": "code",
   "execution_count": null,
   "metadata": {},
   "outputs": [],
   "source": []
  },
  {
   "cell_type": "code",
   "execution_count": 6,
   "metadata": {},
   "outputs": [
    {
     "data": {
      "image/png": "[encoded data removed]",
      "text/plain": [
       "<Figure size 432x288 with 1 Axes>"
      ]
     },
     "metadata": {
      "needs_background": "light"
     },
     "output_type": "display_data"
    }
   ],
   "source": [
    "n, bins, patches = plt.hist(df[df[\"mlt\"]  >0][\"mlt\"], 50, density=True, facecolor='g', alpha=0.75)"
   ]
  },
  {
   "cell_type": "code",
   "execution_count": 7,
   "metadata": {},
   "outputs": [
    {
     "data": {
      "text/html": [
       "<div>\n",
       "<style scoped>\n",
       "    .dataframe tbody tr th:only-of-type {\n",
       "        vertical-align: middle;\n",
       "    }\n",
       "\n",
       "    .dataframe tbody tr th {\n",
       "        vertical-align: top;\n",
       "    }\n",
       "\n",
       "    .dataframe thead th {\n",
       "        text-align: right;\n",
       "    }\n",
       "</style>\n",
       "<table border=\"1\" class=\"dataframe\">\n",
       "  <thead>\n",
       "    <tr style=\"text-align: right;\">\n",
       "      <th></th>\n",
       "      <th>id</th>\n",
       "      <th>tempo</th>\n",
       "    </tr>\n",
       "  </thead>\n",
       "  <tbody>\n",
       "    <tr>\n",
       "      <th>0</th>\n",
       "      <td>1</td>\n",
       "      <td>2.99</td>\n",
       "    </tr>\n",
       "    <tr>\n",
       "      <th>1</th>\n",
       "      <td>2</td>\n",
       "      <td>20.39</td>\n",
       "    </tr>\n",
       "    <tr>\n",
       "      <th>2</th>\n",
       "      <td>3</td>\n",
       "      <td>1.83</td>\n",
       "    </tr>\n",
       "    <tr>\n",
       "      <th>3</th>\n",
       "      <td>4</td>\n",
       "      <td>2.5</td>\n",
       "    </tr>\n",
       "    <tr>\n",
       "      <th>4</th>\n",
       "      <td>5</td>\n",
       "      <td>1.47</td>\n",
       "    </tr>\n",
       "  </tbody>\n",
       "</table>\n",
       "</div>"
      ],
      "text/plain": [
       "   id  tempo\n",
       "0   1   2.99\n",
       "1   2  20.39\n",
       "2   3   1.83\n",
       "3   4    2.5\n",
       "4   5   1.47"
      ]
     },
     "execution_count": 7,
     "metadata": {},
     "output_type": "execute_result"
    }
   ],
   "source": [
    "\n",
    "df_tempo = pd.read_sql_query(\"SELECT * from tempo\", con)\n",
    "df_tempo.head()"
   ]
  },
  {
   "cell_type": "code",
   "execution_count": 8,
   "metadata": {},
   "outputs": [],
   "source": [
    "df_tempo[\"tempo\"] = df_tempo[\"tempo\"].map(map_float)"
   ]
  },
  {
   "cell_type": "code",
   "execution_count": 9,
   "metadata": {},
   "outputs": [
    {
     "data": {
      "image/png": "[encoded data removed]",
      "text/plain": [
       "<Figure size 432x288 with 1 Axes>"
      ]
     },
     "metadata": {
      "needs_background": "light"
     },
     "output_type": "display_data"
    }
   ],
   "source": [
    "n, bins, patches = plt.hist(df_tempo[df_tempo[\"tempo\"]<1.4][\"tempo\"], 20, density=True, facecolor='g', alpha=0.75)"
   ]
  },
  {
   "cell_type": "code",
   "execution_count": 10,
   "metadata": {},
   "outputs": [
    {
     "data": {
      "text/plain": [
       "0.7690217391304348"
      ]
     },
     "execution_count": 10,
     "metadata": {},
     "output_type": "execute_result"
    }
   ],
   "source": [
    "len(df_tempo[df_tempo[\"tempo\"] <= 1.5][\"tempo\"])/len(df_tempo[df_tempo[\"tempo\"] >= 1.5][\"tempo\"])"
   ]
  },
  {
   "cell_type": "code",
   "execution_count": 11,
   "metadata": {},
   "outputs": [
    {
     "data": {
      "text/plain": [
       "0.38330757341576505"
      ]
     },
     "execution_count": 11,
     "metadata": {},
     "output_type": "execute_result"
    }
   ],
   "source": [
    "len(df_tempo[df_tempo[\"tempo\"] <= 1.4][\"tempo\"])/len(df_tempo[\"tempo\"])"
   ]
  },
  {
   "cell_type": "code",
   "execution_count": 12,
   "metadata": {},
   "outputs": [],
   "source": [
    "# 1- 1.4, 1.4-2.1, 2-1"
   ]
  },
  {
   "cell_type": "code",
   "execution_count": 13,
   "metadata": {},
   "outputs": [],
   "source": [
    "df_tempo[\"tempo_atra\"]  = df_tempo[\"tempo\"].shift(-1)"
   ]
  },
  {
   "cell_type": "code",
   "execution_count": 14,
   "metadata": {},
   "outputs": [],
   "source": [
    "df_tempo = df_tempo.dropna()\n",
    "df_tempo\n",
    "tm_df_tempo = len(df_tempo)"
   ]
  },
  {
   "cell_type": "code",
   "execution_count": 15,
   "metadata": {},
   "outputs": [],
   "source": [
    "def map_categoria(x):\n",
    "    r_casa = x >= 1 and x  < 1.4\n",
    "    r_dinheiro = x >= 1.4 and x <2.3\n",
    "    r_ganancia = x >= 2.3\n",
    "    \n",
    "    if r_casa:\n",
    "        return \"casa\"\n",
    "    elif r_dinheiro:\n",
    "        return \"ganhando\"\n",
    "    elif r_ganancia:\n",
    "        return \"ganancia\"\n",
    "    \n",
    "    "
   ]
  },
  {
   "cell_type": "code",
   "execution_count": null,
   "metadata": {},
   "outputs": [],
   "source": []
  },
  {
   "cell_type": "code",
   "execution_count": 16,
   "metadata": {},
   "outputs": [],
   "source": [
    "df_tempo[\"tempo_c\"] = df_tempo[\"tempo\"].map(map_categoria)\n",
    "df_tempo[\"tempo_atra_c\"] = df_tempo[\"tempo_atra\"].map(map_categoria)"
   ]
  },
  {
   "cell_type": "code",
   "execution_count": 17,
   "metadata": {},
   "outputs": [],
   "source": [
    "def pega_sequencia(df_tempo, c_preview, c_seguinte):\n",
    "    r_tempo_c = df_tempo[\"tempo_c\"] == c_preview\n",
    "    r_tempo_atra_c = df_tempo[\"tempo_atra_c\"] == c_seguinte\n",
    "\n",
    "\n",
    "    return len(df_tempo[r_tempo_c & r_tempo_atra_c])/len(df_tempo[\"tempo_c\"]) *100\n",
    "    "
   ]
  },
  {
   "cell_type": "code",
   "execution_count": 18,
   "metadata": {},
   "outputs": [
    {
     "name": "stdout",
     "output_type": "stream",
     "text": [
      "***--***--***--***--***--\n",
      "***--GANANCIA\n",
      "ganancia --> ganancia 14.705882352941178%\n",
      "ganancia --> casa 13.46749226006192%\n",
      "ganancia --> ganhando 10.061919504643962%\n",
      "***--***--***--***--***--\n",
      "***--CASA\n",
      "casa --> casa 13.003095975232199%\n",
      "casa --> ganhando 9.442724458204333%\n",
      "casa --> ganancia 14.705882352941178%\n",
      "***--***--***--***--***--\n",
      "***--GANHANDO\n",
      "ganhando --> ganhando 4.798761609907121%\n",
      "ganhando --> casa 8.359133126934983%\n",
      "ganhando --> ganancia 11.145510835913312%\n",
      "***--***--***--***--***--\n"
     ]
    }
   ],
   "source": [
    "d_saida = {}\n",
    "d_saida[\"g-ga\"] = pega_sequencia(df_tempo,'ganancia','ganancia')\n",
    "d_saida[\"g-c\"] = pega_sequencia(df_tempo,'ganancia','casa')\n",
    "d_saida[\"g-d\"] = pega_sequencia(df_tempo,'ganancia','ganhando')\n",
    "\n",
    "d_saida[\"c-c\"] = pega_sequencia(df_tempo,'casa','casa')\n",
    "d_saida[\"c-ga\"] = pega_sequencia(df_tempo,'casa','ganancia')\n",
    "d_saida[\"c-d\"] = pega_sequencia(df_tempo,'casa','ganhando')\n",
    "\n",
    "\n",
    "d_saida[\"d-d\"] = pega_sequencia(df_tempo,'ganhando','ganhando')\n",
    "d_saida[\"d-ga\"] = pega_sequencia(df_tempo,'ganhando','ganancia')\n",
    "d_saida[\"d-c\"] = pega_sequencia(df_tempo,'ganhando','casa')\n",
    "\n",
    "\n",
    "print(5*\"***--\")\n",
    "print(\"***--GANANCIA\")\n",
    "print(f\"ganancia --> ganancia {d_saida['g-ga']}%\")\n",
    "print(f\"ganancia --> casa {d_saida['g-c']}%\")\n",
    "print(f\"ganancia --> ganhando {d_saida['g-d']}%\")\n",
    "print(5*\"***--\")\n",
    "\n",
    "\n",
    "print(\"***--CASA\")\n",
    "print(f\"casa --> casa {d_saida['c-c']}%\")\n",
    "print(f\"casa --> ganhando {d_saida['c-d']}%\")\n",
    "print(f\"casa --> ganancia {d_saida['g-ga']}%\")\n",
    "print(5*\"***--\")\n",
    "\n",
    "print(\"***--GANHANDO\")\n",
    "print(f\"ganhando --> ganhando {d_saida['d-d']}%\")\n",
    "print(f\"ganhando --> casa {d_saida['d-ga']}%\")\n",
    "print(f\"ganhando --> ganancia {d_saida['d-c']}%\")\n",
    "print(5*\"***--\")\n"
   ]
  },
  {
   "cell_type": "code",
   "execution_count": null,
   "metadata": {},
   "outputs": [],
   "source": []
  },
  {
   "cell_type": "code",
   "execution_count": 19,
   "metadata": {},
   "outputs": [
    {
     "name": "stdout",
     "output_type": "stream",
     "text": [
      "ganancia 0.6477732793522267\n",
      "casa 0.6528925619834711\n",
      "dinheiro 0.5414012738853503\n"
     ]
    }
   ],
   "source": [
    "print(f\"ganancia {(d_saida['g-ga']+ d_saida['g-d'])/(d_saida['g-ga']+ d_saida['g-c'] + d_saida['g-d'])}\")\n",
    "print(f'casa {(d_saida[\"c-ga\"]+ d_saida[\"c-d\"])/(d_saida[\"c-ga\"]+ d_saida[\"c-c\"] + d_saida[\"c-d\"])}')\n",
    "print(f'dinheiro {(d_saida[\"d-ga\"]+ d_saida[\"d-d\"])/(d_saida[\"d-ga\"]+ d_saida[\"d-c\"] + d_saida[\"d-d\"])}')\n"
   ]
  },
  {
   "cell_type": "code",
   "execution_count": null,
   "metadata": {},
   "outputs": [],
   "source": []
  },
  {
   "cell_type": "code",
   "execution_count": null,
   "metadata": {},
   "outputs": [],
   "source": []
  },
  {
   "cell_type": "code",
   "execution_count": 20,
   "metadata": {},
   "outputs": [],
   "source": [
    "import time"
   ]
  },
  {
   "cell_type": "code",
   "execution_count": 21,
   "metadata": {},
   "outputs": [],
   "source": [
    "def get_last_resultado():\n",
    "    query =\"\"\"\n",
    "    SELECT * \n",
    "        FROM    tempo\n",
    "        WHERE   id = (SELECT MAX(id)  FROM tempo);\n",
    "    \"\"\"\n",
    "    # con = sqlite3.connect(\"./clientes.db\")\n",
    "    cur = con.cursor()\n",
    "    cur.execute(query)\n",
    "\n",
    "    rows = cur.fetchall()\n",
    "    return float(rows[0][1])\n",
    "\n",
    "# for row in rows:\n",
    "#     print(row)"
   ]
  },
  {
   "cell_type": "code",
   "execution_count": 22,
   "metadata": {},
   "outputs": [],
   "source": [
    "montante_inicial = 200\n",
    "qnt_aposta = 3\n",
    "lis_montante = []"
   ]
  },
  {
   "cell_type": "code",
   "execution_count": 23,
   "metadata": {},
   "outputs": [],
   "source": [
    "# antiga\n",
    "# def estrategia(x):\n",
    "#     categoria = map_categoria(x)\n",
    "#     r_casa = categoria == \"casa\"\n",
    "#     r_dinheiro = categoria == \"ganhando\"\n",
    "#     r_ganancia = categoria == \"ganancia\"\n",
    "\n",
    "#     if r_casa:\n",
    "#         return 1.6 + np.random.uniform(-2,2)*0.1\n",
    "#     if  r_ganancia:\n",
    "#         return 1.6 + np.random.uniform(-2,2)*0.1\n",
    "#     elif r_dinheiro:\n",
    "#         return 0\n",
    "#     else:\n",
    "#         return 0"
   ]
  },
  {
   "cell_type": "code",
   "execution_count": 24,
   "metadata": {},
   "outputs": [],
   "source": [
    "def estrategia(x):\n",
    "    categoria = map_categoria(x)\n",
    "    r_casa = categoria == \"casa\"\n",
    "    r_dinheiro = categoria == \"ganhando\"\n",
    "    r_ganancia = categoria == \"ganancia\"\n",
    "\n",
    "    if r_casa:\n",
    "        return 1.3 + np.random.uniform(0,3)*0.1\n",
    "    if  r_ganancia:\n",
    "        return 1.6 + np.random.uniform(0,4)*0.1\n",
    "    elif r_dinheiro:\n",
    "        return 0\n",
    "    else:\n",
    "        return 0"
   ]
  },
  {
   "cell_type": "code",
   "execution_count": 25,
   "metadata": {},
   "outputs": [
    {
     "data": {
      "image/png": "[encoded data removed]",
      "text/plain": [
       "<Figure size 432x288 with 1 Axes>"
      ]
     },
     "metadata": {
      "needs_background": "light"
     },
     "output_type": "display_data"
    },
    {
     "name": "stdout",
     "output_type": "stream",
     "text": [
      "115 - apostou o valor de 1.6776590430968208, o tempo da ultima 3.65, tendo um montante de 341.4452697005949 \n"
     ]
    },
    {
     "ename": "KeyboardInterrupt",
     "evalue": "",
     "output_type": "error",
     "traceback": [
      "\u001b[1;31m--------------------------------------------------------------------\u001b[0m",
      "\u001b[1;31mKeyboardInterrupt\u001b[0m                  Traceback (most recent call last)",
      "\u001b[1;32m<ipython-input-25-fe5ab535d49c>\u001b[0m in \u001b[0;36m<module>\u001b[1;34m\u001b[0m\n\u001b[0;32m      9\u001b[0m \u001b[1;33m\u001b[0m\u001b[0m\n\u001b[0;32m     10\u001b[0m     \u001b[1;32mwhile\u001b[0m\u001b[1;33m(\u001b[0m\u001b[0mr_valor_while\u001b[0m\u001b[1;33m)\u001b[0m\u001b[1;33m:\u001b[0m\u001b[1;33m\u001b[0m\u001b[1;33m\u001b[0m\u001b[0m\n\u001b[1;32m---> 11\u001b[1;33m         \u001b[0mtime\u001b[0m\u001b[1;33m.\u001b[0m\u001b[0msleep\u001b[0m\u001b[1;33m(\u001b[0m\u001b[1;36m0.3\u001b[0m\u001b[1;33m)\u001b[0m\u001b[1;33m\u001b[0m\u001b[1;33m\u001b[0m\u001b[0m\n\u001b[0m\u001b[0;32m     12\u001b[0m \u001b[1;33m\u001b[0m\u001b[0m\n\u001b[0;32m     13\u001b[0m         \u001b[0mnovo_valor\u001b[0m \u001b[1;33m=\u001b[0m \u001b[0mget_last_resultado\u001b[0m\u001b[1;33m(\u001b[0m\u001b[1;33m)\u001b[0m\u001b[1;33m\u001b[0m\u001b[1;33m\u001b[0m\u001b[0m\n",
      "\u001b[1;31mKeyboardInterrupt\u001b[0m: "
     ]
    }
   ],
   "source": [
    "last_aposta = get_last_resultado()\n",
    "r_valor_while = True\n",
    "for i in range(150):\n",
    "    r_valor_while = True\n",
    "    t_aposta = estrategia(last_aposta)\n",
    "    print(f\"{i} - apostou o valor de {t_aposta}, o tempo da ultima {last_aposta}, tendo um montante de {montante_inicial} \")\n",
    "#     print(last_aposta)\n",
    "    \n",
    "   \n",
    "    while(r_valor_while):\n",
    "        time.sleep(0.3)\n",
    "        \n",
    "        novo_valor = get_last_resultado()\n",
    "        r_novo_valor = novo_valor != last_aposta\n",
    "#         print(r_novo_valor)\n",
    "        if r_novo_valor:\n",
    "            r_valor_while = False\n",
    "            last_aposta = novo_valor\n",
    "\n",
    "            if novo_valor > t_aposta:\n",
    "                montante_inicial = montante_inicial + qnt_aposta * t_aposta\n",
    "            else:\n",
    "                montante_inicial = montante_inicial - qnt_aposta\n",
    "            lis_montante.append(montante_inicial - 200)\n",
    "            clear_output(wait=True)\n",
    "            plt.plot(lis_montante)\n",
    "            plt.show()\n",
    "#             print(montante_inicial)\n",
    "\n"
   ]
  },
  {
   "cell_type": "code",
   "execution_count": null,
   "metadata": {},
   "outputs": [],
   "source": []
  }
 ],
 "metadata": {
  "kernelspec": {
   "display_name": "Python 3",
   "language": "python",
   "name": "python3"
  },
  "language_info": {
   "codemirror_mode": {
    "name": "ipython",
    "version": 3
   },
   "file_extension": ".py",
   "mimetype": "text/x-python",
   "name": "python",
   "nbconvert_exporter": "python",
   "pygments_lexer": "ipython3",
   "version": "3.8.3"
  }
 },
 "nbformat": 4,
 "nbformat_minor": 4
}
